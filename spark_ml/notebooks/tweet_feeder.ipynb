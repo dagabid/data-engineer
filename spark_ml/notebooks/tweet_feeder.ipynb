{
 "cells": [
  {
   "cell_type": "code",
   "execution_count": 1,
   "metadata": {},
   "outputs": [
    {
     "name": "stdout",
     "output_type": "stream",
     "text": [
      "Current spark version is 2.4.5\n"
     ]
    }
   ],
   "source": [
    "println(s\"Current spark version is ${spark.version}\")"
   ]
  },
  {
   "cell_type": "code",
   "execution_count": 2,
   "metadata": {},
   "outputs": [
    {
     "name": "stdout",
     "output_type": "stream",
     "text": [
      "Total tweets in file: 1600000\n"
     ]
    },
    {
     "data": {
      "text/plain": [
       "dataSchema = StructType(StructField(target,IntegerType,true), StructField(id,LongType,true), StructField(raw_timestamp,StringType,true), StructField(query_status,StringType,true), StructField(author,StringType,true), StructField(tweet,StringType,true))\n",
       "dataPath = /home/jovyan/data/training.1600000.processed.noemoticon.csv\n",
       "raw_sentiment = [tweet: string]\n"
      ]
     },
     "metadata": {},
     "output_type": "display_data"
    },
    {
     "data": {
      "text/plain": [
       "[tweet: string]"
      ]
     },
     "execution_count": 2,
     "metadata": {},
     "output_type": "execute_result"
    }
   ],
   "source": [
    "import org.apache.spark.sql.types.{StructType, StructField, IntegerType, LongType, StringType}\n",
    "\n",
    "val dataSchema = new StructType()\n",
    "    .add(\"target\", IntegerType)\n",
    "    .add(\"id\", LongType)\n",
    "    .add(\"raw_timestamp\", StringType)\n",
    "    .add(\"query_status\", StringType)\n",
    "    .add(\"author\", StringType)\n",
    "    .add(\"tweet\", StringType)\n",
    "\n",
    "    \n",
    "val dataPath= \"/home/jovyan/data/training.1600000.processed.noemoticon.csv\"\n",
    "\n",
    "val raw_sentiment = spark.read\n",
    "    .format(\"csv\")\n",
    "    .option(\"header\",false)\n",
    "    .schema(dataSchema)\n",
    "    .load(dataPath)\n",
    "    .selectExpr(\"tweet\")\n",
    "\n",
    "println(s\"Total tweets in file: ${raw_sentiment.count}\")\n"
   ]
  },
  {
   "cell_type": "code",
   "execution_count": 5,
   "metadata": {},
   "outputs": [
    {
     "name": "stdout",
     "output_type": "stream",
     "text": [
      "Streaming started!\n"
     ]
    },
    {
     "data": {
      "text/plain": [
       "timer = java.util.Timer@7abf6edf\n",
       "task = $anon$1@3a781989\n"
      ]
     },
     "metadata": {},
     "output_type": "display_data"
    },
    {
     "data": {
      "text/plain": [
       "$anon$1@3a781989"
      ]
     },
     "execution_count": 5,
     "metadata": {},
     "output_type": "execute_result"
    },
    {
     "name": "stdout",
     "output_type": "stream",
     "text": [
      "2020-04-11T21:43:47.709Z - saved some data to the events stream!\n",
      "2020-04-11T21:43:51.263Z - saved some data to the events stream!\n",
      "2020-04-11T21:43:54.877Z - saved some data to the events stream!\n",
      "2020-04-11T21:43:58.449Z - saved some data to the events stream!\n",
      "2020-04-11T21:44:02.107Z - saved some data to the events stream!\n",
      "2020-04-11T21:44:05.786Z - saved some data to the events stream!\n",
      "2020-04-11T21:44:09.552Z - saved some data to the events stream!\n",
      "2020-04-11T21:44:13.276Z - saved some data to the events stream!\n",
      "2020-04-11T21:44:16.990Z - saved some data to the events stream!\n",
      "2020-04-11T21:44:20.648Z - saved some data to the events stream!\n",
      "2020-04-11T21:44:24.386Z - saved some data to the events stream!\n",
      "2020-04-11T21:44:28.181Z - saved some data to the events stream!\n",
      "2020-04-11T21:44:32.017Z - saved some data to the events stream!\n",
      "2020-04-11T21:44:35.825Z - saved some data to the events stream!\n",
      "2020-04-11T21:44:39.699Z - saved some data to the events stream!\n",
      "2020-04-11T21:44:43.408Z - saved some data to the events stream!\n",
      "2020-04-11T21:44:47.209Z - saved some data to the events stream!\n",
      "2020-04-11T21:44:51.046Z - saved some data to the events stream!\n",
      "2020-04-11T21:44:54.786Z - saved some data to the events stream!\n",
      "2020-04-11T21:44:58.582Z - saved some data to the events stream!\n",
      "2020-04-11T21:45:02.330Z - saved some data to the events stream!\n",
      "2020-04-11T21:45:06.142Z - saved some data to the events stream!\n",
      "2020-04-11T21:45:10.004Z - saved some data to the events stream!\n",
      "2020-04-11T21:45:13.823Z - saved some data to the events stream!\n",
      "2020-04-11T21:45:17.690Z - saved some data to the events stream!\n",
      "2020-04-11T21:45:21.672Z - saved some data to the events stream!\n",
      "2020-04-11T21:45:25.753Z - saved some data to the events stream!\n",
      "2020-04-11T21:45:30.085Z - saved some data to the events stream!\n",
      "2020-04-11T21:45:34.112Z - saved some data to the events stream!\n",
      "2020-04-11T21:45:38.108Z - saved some data to the events stream!\n",
      "2020-04-11T21:45:42.038Z - saved some data to the events stream!\n",
      "2020-04-11T21:45:45.911Z - saved some data to the events stream!\n",
      "2020-04-11T21:45:49.803Z - saved some data to the events stream!\n",
      "2020-04-11T21:45:53.637Z - saved some data to the events stream!\n",
      "2020-04-11T21:45:57.565Z - saved some data to the events stream!\n",
      "2020-04-11T21:46:01.568Z - saved some data to the events stream!\n",
      "2020-04-11T21:46:05.542Z - saved some data to the events stream!\n",
      "2020-04-11T21:46:10.021Z - saved some data to the events stream!\n",
      "2020-04-11T21:46:14.933Z - saved some data to the events stream!\n",
      "2020-04-11T21:46:18.884Z - saved some data to the events stream!\n",
      "2020-04-11T21:46:23.018Z - saved some data to the events stream!\n",
      "2020-04-11T21:46:26.981Z - saved some data to the events stream!\n",
      "2020-04-11T21:46:30.966Z - saved some data to the events stream!\n",
      "2020-04-11T21:46:34.905Z - saved some data to the events stream!\n",
      "2020-04-11T21:46:38.973Z - saved some data to the events stream!\n",
      "2020-04-11T21:46:42.995Z - saved some data to the events stream!\n",
      "2020-04-11T21:46:46.873Z - saved some data to the events stream!\n",
      "2020-04-11T21:46:50.773Z - saved some data to the events stream!\n",
      "2020-04-11T21:46:54.672Z - saved some data to the events stream!\n",
      "2020-04-11T21:46:58.770Z - saved some data to the events stream!\n",
      "2020-04-11T21:47:02.687Z - saved some data to the events stream!\n",
      "2020-04-11T21:47:06.581Z - saved some data to the events stream!\n",
      "2020-04-11T21:47:10.485Z - saved some data to the events stream!\n",
      "2020-04-11T21:47:14.442Z - saved some data to the events stream!\n",
      "2020-04-11T21:47:18.410Z - saved some data to the events stream!\n",
      "2020-04-11T21:47:22.323Z - saved some data to the events stream!\n",
      "2020-04-11T21:47:26.209Z - saved some data to the events stream!\n",
      "2020-04-11T21:47:30.111Z - saved some data to the events stream!\n",
      "2020-04-11T21:47:34.019Z - saved some data to the events stream!\n",
      "2020-04-11T21:47:37.893Z - saved some data to the events stream!\n",
      "2020-04-11T21:47:41.897Z - saved some data to the events stream!\n",
      "2020-04-11T21:47:45.742Z - saved some data to the events stream!\n",
      "2020-04-11T21:47:49.693Z - saved some data to the events stream!\n",
      "2020-04-11T21:47:53.569Z - saved some data to the events stream!\n",
      "2020-04-11T21:47:57.515Z - saved some data to the events stream!\n",
      "2020-04-11T21:48:01.370Z - saved some data to the events stream!\n",
      "2020-04-11T21:48:05.334Z - saved some data to the events stream!\n",
      "2020-04-11T21:48:09.321Z - saved some data to the events stream!\n",
      "2020-04-11T21:48:13.257Z - saved some data to the events stream!\n",
      "2020-04-11T21:48:17.159Z - saved some data to the events stream!\n",
      "2020-04-11T21:48:21.070Z - saved some data to the events stream!\n",
      "2020-04-11T21:48:24.973Z - saved some data to the events stream!\n",
      "2020-04-11T21:48:28.835Z - saved some data to the events stream!\n",
      "2020-04-11T21:48:32.697Z - saved some data to the events stream!\n",
      "2020-04-11T21:48:36.825Z - saved some data to the events stream!\n",
      "2020-04-11T21:48:42.247Z - saved some data to the events stream!\n",
      "2020-04-11T21:48:47.233Z - saved some data to the events stream!\n",
      "2020-04-11T21:48:51.832Z - saved some data to the events stream!\n",
      "2020-04-11T21:48:56.220Z - saved some data to the events stream!\n",
      "2020-04-11T21:49:00.663Z - saved some data to the events stream!\n",
      "2020-04-11T21:49:05.610Z - saved some data to the events stream!\n",
      "2020-04-11T21:49:11.785Z - saved some data to the events stream!\n",
      "2020-04-11T21:49:17.709Z - saved some data to the events stream!\n",
      "2020-04-11T21:49:23.696Z - saved some data to the events stream!\n",
      "2020-04-11T21:49:29.924Z - saved some data to the events stream!\n",
      "2020-04-11T21:49:35.085Z - saved some data to the events stream!\n",
      "2020-04-11T21:49:40.151Z - saved some data to the events stream!\n",
      "2020-04-11T21:49:44.614Z - saved some data to the events stream!\n",
      "2020-04-11T21:49:49.090Z - saved some data to the events stream!\n",
      "2020-04-11T21:49:53.376Z - saved some data to the events stream!\n",
      "2020-04-11T21:49:57.700Z - saved some data to the events stream!\n",
      "2020-04-11T21:50:01.970Z - saved some data to the events stream!\n",
      "2020-04-11T21:50:06.235Z - saved some data to the events stream!\n",
      "2020-04-11T21:50:10.445Z - saved some data to the events stream!\n",
      "2020-04-11T21:50:14.686Z - saved some data to the events stream!\n",
      "2020-04-11T21:50:19.023Z - saved some data to the events stream!\n",
      "2020-04-11T21:50:23.219Z - saved some data to the events stream!\n",
      "2020-04-11T21:50:27.332Z - saved some data to the events stream!\n",
      "2020-04-11T21:50:31.477Z - saved some data to the events stream!\n",
      "2020-04-11T21:50:35.827Z - saved some data to the events stream!\n",
      "2020-04-11T21:50:40.111Z - saved some data to the events stream!\n",
      "2020-04-11T21:50:44.366Z - saved some data to the events stream!\n"
     ]
    }
   ],
   "source": [
    "import java.util.{Calendar, Timer, TimerTask}\n",
    "\n",
    "val timer = new Timer()\n",
    "\n",
    "val task = new TimerTask {\n",
    "  def run(): Unit = {\n",
    "      val data = raw_sentiment.sample(fraction=0.00001,withReplacement=true)\n",
    "      data.coalesce(1).write.format(\"json\").mode(\"append\").save(\"/home/jovyan/data/events-stream\")\n",
    "      println(s\"${Calendar.getInstance().toInstant} - saved some data to the events stream!\")\n",
    "  } \n",
    "}\n",
    "\n",
    "println(\"Streaming started!\")\n",
    "\n",
    "timer.schedule(task, 1000L, 1000L)"
   ]
  },
  {
   "cell_type": "code",
   "execution_count": 1,
   "metadata": {},
   "outputs": [
    {
     "data": {
      "text/plain": [
       "true"
      ]
     },
     "execution_count": 1,
     "metadata": {},
     "output_type": "execute_result"
    }
   ],
   "source": [
    "task.cancel()"
   ]
  },
  {
   "cell_type": "code",
   "execution_count": null,
   "metadata": {},
   "outputs": [],
   "source": []
  }
 ],
 "metadata": {
  "kernelspec": {
   "display_name": "Apache Toree - Scala",
   "language": "scala",
   "name": "apache_toree_scala"
  },
  "language_info": {
   "codemirror_mode": "text/x-scala",
   "file_extension": ".scala",
   "mimetype": "text/x-scala",
   "name": "scala",
   "pygments_lexer": "scala",
   "version": "2.11.12"
  }
 },
 "nbformat": 4,
 "nbformat_minor": 4
}
